{
 "cells": [
  {
   "cell_type": "code",
   "execution_count": 1,
   "metadata": {},
   "outputs": [],
   "source": [
    "import requests\n",
    "from bs4 import BeautifulSoup\n",
    "import re\n",
    "import sqlite3\n",
    "import datetime"
   ]
  },
  {
   "cell_type": "code",
   "execution_count": 31,
   "metadata": {},
   "outputs": [],
   "source": [
    "url = \"https://karofilm.ru\"\n",
    "url_theaters = url + \"/theatres\""
   ]
  },
  {
   "cell_type": "code",
   "execution_count": 3,
   "metadata": {},
   "outputs": [],
   "source": [
    "def remove_all(string):\n",
    "    pattern = re.compile(r'[А-Яа-яёЁ0-9 ]+')\n",
    "    return pattern.findall(string)[0].strip()"
   ]
  },
  {
   "cell_type": "code",
   "execution_count": 4,
   "metadata": {},
   "outputs": [],
   "source": [
    "def find_all_theaters_KARO(theatres):\n",
    "    dicti = {}\n",
    "    metro_class = 'cinemalist__cinema-item__metro__station-list__station-item'\n",
    "    for theater in theatres:\n",
    "        dicti[theater.findAll('h4')[0].text[1:]] = {\n",
    "            'metro': [remove_all(i.text) for i in theater.findAll('li', class_=metro_class)], \n",
    "            'address': theater.findAll('p')[0].text.split('+')[0].strip(),\n",
    "            'phone': '+' + theater.findAll('p')[0].text.split('+')[-1],\n",
    "            'data-id': theater['data-id']\n",
    "        }\n",
    "    return dicti"
   ]
  },
  {
   "cell_type": "code",
   "execution_count": 5,
   "metadata": {},
   "outputs": [],
   "source": [
    "r = requests.get(url_theaters)\n",
    "if r.status_code == 200:\n",
    "    soup = BeautifulSoup(r.text, \"html.parser\")\n",
    "    theatres = soup.findAll('li', class_='cinemalist__cinema-item')\n",
    "    karo_theatres = find_all_theaters_KARO(theatres)\n",
    "else:\n",
    "    print(\"Страница не найдена\")"
   ]
  },
  {
   "cell_type": "code",
   "execution_count": 6,
   "metadata": {},
   "outputs": [],
   "source": [
    "conn = sqlite3.connect(\"cinemabot.db\")\n",
    "cursor = conn.cursor()"
   ]
  },
  {
   "cell_type": "code",
   "execution_count": 7,
   "metadata": {},
   "outputs": [
    {
     "data": {
      "text/plain": [
       "<sqlite3.Cursor at 0x19f3e0e9ea0>"
      ]
     },
     "execution_count": 7,
     "metadata": {},
     "output_type": "execute_result"
    }
   ],
   "source": [
    "cursor.execute(\"\"\"CREATE TABLE IF NOT EXISTS brand(\n",
    "                id integer PRIMARY KEY,\n",
    "                name text NOT NULL\n",
    "                )\"\"\")"
   ]
  },
  {
   "cell_type": "code",
   "execution_count": 8,
   "metadata": {},
   "outputs": [
    {
     "data": {
      "text/plain": [
       "<sqlite3.Cursor at 0x19f3e0e9ea0>"
      ]
     },
     "execution_count": 8,
     "metadata": {},
     "output_type": "execute_result"
    }
   ],
   "source": [
    "cursor.execute(\"\"\"CREATE TABLE IF NOT EXISTS brand(\n",
    "                id integer PRIMARY KEY,\n",
    "                name text NOT NULL\n",
    "                )\"\"\")"
   ]
  },
  {
   "cell_type": "code",
   "execution_count": 9,
   "metadata": {},
   "outputs": [
    {
     "data": {
      "text/plain": [
       "<sqlite3.Cursor at 0x19f3e0e9ea0>"
      ]
     },
     "execution_count": 9,
     "metadata": {},
     "output_type": "execute_result"
    }
   ],
   "source": [
    "cursor.execute(\"\"\"CREATE TABLE IF NOT EXISTS cinema_halls(\n",
    "                id integer PRIMARY KEY,\n",
    "                brand_id integer Not NULL,\n",
    "                name text NOT NULL,\n",
    "                address text NOT NULL,\n",
    "                metro text NOT NULL,\n",
    "                phone text NOT NULL,\n",
    "                FOREIGN KEY (brand_id) REFERENCES brand(id)\n",
    "                )\"\"\")"
   ]
  },
  {
   "cell_type": "code",
   "execution_count": 10,
   "metadata": {},
   "outputs": [
    {
     "data": {
      "text/plain": [
       "<sqlite3.Cursor at 0x19f3e0e9ea0>"
      ]
     },
     "execution_count": 10,
     "metadata": {},
     "output_type": "execute_result"
    }
   ],
   "source": [
    "cursor.execute(\"\"\"CREATE TABLE IF NOT EXISTS cinemas(\n",
    "                id integer PRIMARY KEY,\n",
    "                name text NOT NULL,\n",
    "                duration integer NOT NULL,\n",
    "                genres text NOT NULL\n",
    "                )\"\"\")"
   ]
  },
  {
   "cell_type": "code",
   "execution_count": 30,
   "metadata": {},
   "outputs": [
    {
     "data": {
      "text/plain": [
       "<sqlite3.Cursor at 0x19f3e0e9ea0>"
      ]
     },
     "execution_count": 30,
     "metadata": {},
     "output_type": "execute_result"
    }
   ],
   "source": [
    "cursor.execute(\"\"\"CREATE TABLE IF NOT EXISTS sessions(\n",
    "                id integer PRIMARY KEY,\n",
    "                cinema_id integer Not NULL,\n",
    "                hall_id integer Not NULL,\n",
    "                name text NOT NULL,\n",
    "                date date NOT NULL,\n",
    "                time time NOT NULL,\n",
    "                price integer NOT NULL,\n",
    "                FOREIGN KEY (cinema_id) REFERENCES cinemas(id),\n",
    "                FOREIGN KEY (hall_id) REFERENCES cinema_halls(id),\n",
    "                FOREIGN KEY (name) REFERENCES cinemas(id)\n",
    "                )\"\"\")"
   ]
  },
  {
   "cell_type": "code",
   "execution_count": 12,
   "metadata": {},
   "outputs": [],
   "source": [
    "cursor.execute(\"insert into brand values (1, 'КАРО')\")\n",
    "cursor.execute(\"insert into brand values (2, 'Синема Парк')\")\n",
    "cursor.execute(\"insert into brand values (3, 'Алмаз Синема')\")\n",
    "conn.commit()"
   ]
  },
  {
   "cell_type": "code",
   "execution_count": 13,
   "metadata": {},
   "outputs": [
    {
     "data": {
      "text/plain": [
       "[(1, 'КАРО'), (2, 'Синема Парк'), (3, 'Алмаз Синема')]"
      ]
     },
     "execution_count": 13,
     "metadata": {},
     "output_type": "execute_result"
    }
   ],
   "source": [
    "cursor.execute('select * from brand').fetchall()"
   ]
  },
  {
   "cell_type": "code",
   "execution_count": 14,
   "metadata": {},
   "outputs": [],
   "source": [
    "for key, item in karo_theatres.items():\n",
    "    elements=[1,key,item['address'],', '.join(item['metro']),item['phone']]\n",
    "    cursor.execute(\"insert into cinema_halls (brand_id, name, address, metro, phone) values ({},'{}','{}','{}','{}')\".format(*elements))\n",
    "conn.commit()"
   ]
  },
  {
   "cell_type": "code",
   "execution_count": 15,
   "metadata": {},
   "outputs": [],
   "source": [
    "r2 = requests.get(url)\n",
    "if r2.status_code == 200:\n",
    "    soup = BeautifulSoup(r2.text, 'html.parser')\n",
    "    films = soup.findAll('div', class_ = 'afisha-item-inner')\n",
    "    for film in films:\n",
    "        film_name = film.findAll('h3', class_ = \"afisha-title\")[0].text\n",
    "        film_duration = film.findAll('span', class_ = 'afisha-duration-time')[0].text\n",
    "        try:\n",
    "            film_genres = film.findAll('p', class_ = 'afisha-genre')[0].text\n",
    "        except IndexError:\n",
    "            film_genres = 'undefined'\n",
    "        elements = [film_name, film_duration, film_genres]\n",
    "        try:\n",
    "            cursor.execute(\"insert into cinemas (name, duration, genres) values ('{}', '{}', '{}')\".format(*elements))\n",
    "        except sqlite3.OperationalError:\n",
    "            continue\n",
    "    conn.commit()\n",
    "else:\n",
    "    print('I think that page is not found')"
   ]
  },
  {
   "cell_type": "code",
   "execution_count": 32,
   "metadata": {},
   "outputs": [],
   "source": [
    "def try_to_get_cinema_id(name, cinemas):\n",
    "    for el in cinemas:\n",
    "        if name == el[1]:\n",
    "            return el[0]\n",
    "    for el in cinemas:\n",
    "        if (name in el[1]) or (el[1] in name):\n",
    "            return el[0]"
   ]
  },
  {
   "cell_type": "code",
   "execution_count": 33,
   "metadata": {},
   "outputs": [],
   "source": [
    "films_class = 'cinema-page-item__schedule__row'\n",
    "table_class = 'cinema-page-item__schedule__row__board-row'\n",
    "first_class = table_class + '__left'\n",
    "second_class = table_class + '__right'\n",
    "date_class = 'widget-select'\n",
    "for theater in karo_theatres:\n",
    "    dates = {}\n",
    "    url_theater_id = url_theaters + '?id=' + karo_theatres[theater]['data-id']\n",
    "    r3 = requests.get(url_theater_id)\n",
    "    if r3.status_code == 200:\n",
    "        date_parser = BeautifulSoup(r3.text,'html.parser')\n",
    "        date_list = date_parser.findAll('select',class_ = date_class)[0]\n",
    "        date_list = [i['data-id'] for i in date_list.findAll('option')]\n",
    "        for date in date_list: \n",
    "            url_theater_id_date = url_theater_id + '&date=' + date\n",
    "            r4 = requests.get(url_theater_id_date)\n",
    "            session = {}\n",
    "            if r4.status_code == 200:\n",
    "                films_parser = BeautifulSoup(r4.text,'html.parser')\n",
    "                films_list = films_parser.findAll('div', class_ = films_class)\n",
    "                for film in films_list:\n",
    "                    name = film.findAll('h3')\n",
    "                    if name:\n",
    "                        name = name[0].text.split(', ')\n",
    "                        session_time = {}\n",
    "                        session_time['age'] = name[1]\n",
    "                        for i in film.findAll('div', class_ = table_class):\n",
    "                            time_D = i.findAll('div', class_ = first_class)[0].text.strip()\n",
    "                            time = i.findAll('div', class_ = second_class)[0].findAll('a')\n",
    "                            time = [j.text for j in time]\n",
    "                            session_time[time_D] = time\n",
    "                            for time_element in time:\n",
    "                                cinema_id = try_to_get_cinema_id(name[0], cursor.execute('select * from cinemas').fetchall())\n",
    "                                if cinema_id == None:\n",
    "                                    cinema_id = 0\n",
    "                                hall_id = cursor.execute(f'select id from cinema_halls where name=\\'{theater}\\'').fetchall()[0][0]\n",
    "                                values = [cinema_id, hall_id, name[0], date, time_element, 0]\n",
    "                                try:\n",
    "                                    cursor.execute(\"insert into sessions (cinema_id, hall_id, name, date, time, price) values ({},{},'{}','{}', '{}', {})\".format(*values))\n",
    "                                except sqlite3.OperationalError:\n",
    "                                    continue\n",
    "                        session[name[0]] = session_time\n",
    "            else:\n",
    "                print('No date, url=', url_theater_id_date)\n",
    "            dates[date]=session\n",
    "    else:\n",
    "        print('No cinema, url=', url_theater_id)\n",
    "    karo_theatres[theater]['dates'] = dates\n",
    "conn.commit()"
   ]
  },
  {
   "cell_type": "code",
   "execution_count": 34,
   "metadata": {},
   "outputs": [],
   "source": [
    "url = \"https://kinoteatr.ru\"\n",
    "url_theatres = url + \"/raspisanie-kinoteatrov\"\n",
    "url_films = url + \"/kinoafisha\""
   ]
  },
  {
   "cell_type": "code",
   "execution_count": 35,
   "metadata": {},
   "outputs": [],
   "source": [
    "def tab_delete_name(name):\n",
    "    pattern = re.compile(r'\\w+[:,.!?]?')\n",
    "    res = ' '.join(pattern.findall(name))\n",
    "    return res\n",
    "\n",
    "def date_maker(date):\n",
    "    pattern = re.compile(r'[0-9]+-[0-9]+-[0-9]+')\n",
    "    res = ', '.join(pattern.findall(date))\n",
    "    return res"
   ]
  },
  {
   "cell_type": "code",
   "execution_count": 23,
   "metadata": {},
   "outputs": [],
   "source": [
    "r = requests.get(url_theatres)\n",
    "if r.status_code == 200:\n",
    "    soup = BeautifulSoup(r.text, \"html.parser\")\n",
    "    theatres = soup.findAll('div', class_ = \"col-md-12 cinema_card\")\n",
    "    for theatre in theatres:\n",
    "        name = tab_delete(theatre.findAll('h3', class_ = \"title movie_card_title\")[0].text)\n",
    "        metro = [tab_delete(i) for i in theatre.findAll('span', class_ = \"sub_title\")[1] if ('\\n' in i) and (len(i) > 2)]\n",
    "        address = tab_delete(theatre.findAll('span', class_ = \"sub_title\")[0].text)\n",
    "        phone = 'unknown'\n",
    "        values = [2, name, address, ', '.join(metro), phone]\n",
    "        cursor.execute(\"insert into cinema_halls (brand_id, name, address, metro, phone) values ({},'{}','{}','{}','{}')\".format(*values))\n",
    "    conn.commit()\n",
    "else:\n",
    "    print('I think that page is not found')"
   ]
  },
  {
   "cell_type": "code",
   "execution_count": 24,
   "metadata": {},
   "outputs": [],
   "source": [
    "r2 = requests.get(url_films)\n",
    "if r2.status_code == 200:\n",
    "    soup = BeautifulSoup(r2.text, \"html.parser\")\n",
    "    films = soup.findAll('div', class_ = \"col-md-2 col-sm-6 col-xs-12 movie_card\")\n",
    "    for film in films:\n",
    "        count = 0\n",
    "        name = tab_delete_name(film.findAll('span', class_ = \"movie_card_header title\")[0].text)\n",
    "        name_2 = cursor.execute('select name from cinemas').fetchall()\n",
    "        for i in name_2:\n",
    "            if name in i[0]:\n",
    "                count += 1\n",
    "        if count == 0:\n",
    "            try:\n",
    "                duration = tab_delete(film.findAll('span', class_ = \"hide-md title\")[0].text)\n",
    "            except IndexError:\n",
    "                duration = '0 мин'\n",
    "            genres = [tab_delete(i.text) for i in film.findAll('span', class_ = \"hidden\", itemprop = \"genre\")]\n",
    "            values = [name, duration.split()[0], ', '.join(genres)]\n",
    "            try:\n",
    "                cursor.execute(\"insert into cinemas (name, duration, genres) values ('{}', {},'{}')\".format(*values))\n",
    "            except sqlite3.OperationalError:\n",
    "                continue\n",
    "    conn.commit()\n",
    "else:\n",
    "    print('I think that page is not found')"
   ]
  },
  {
   "cell_type": "code",
   "execution_count": 36,
   "metadata": {},
   "outputs": [],
   "source": [
    "cinema_halls_cinema_park = ['/belaya-dacha', '/butovo-mall', '/waypark', '/global-city', '/gorizont', '/evropa', '/zelenopark', '/kaluzhskij', '/kutuzovskiy', '/ladoga', '/lefortovo', '/metropolis', '/michurinsky', '/mozhayka', '/oblaka', '/polezhaevskiy', '/5avenu', '/rivera', '/semenovsky', '/city', '/tepliy-stan', '/filion', '/mega-himki', '/cdm', '/chertanovo']"
   ]
  },
  {
   "cell_type": "code",
   "execution_count": 37,
   "metadata": {},
   "outputs": [],
   "source": [
    "k = 0\n",
    "hall_id = 17\n",
    "cinema_id = 0\n",
    "for theatre in theatres:\n",
    "    url_table = url_theatres + cinema_halls_cinema_park[k]\n",
    "    k += 1\n",
    "    r3 = requests.get(url_table)\n",
    "    if r3.status_code == 200:\n",
    "        dates = []\n",
    "        soup = BeautifulSoup(r3.text, \"html.parser\")\n",
    "        date_parser = soup.findAll('input', class_ = \"single_card_date_input\")\n",
    "        for date in date_maker(str(date_parser)).split(', '):\n",
    "            if date not in dates:\n",
    "                dates.append(date)\n",
    "        for date in dates:\n",
    "            url_date = url_table + '/?date=' + date\n",
    "            r4 = requests.get(url_date)\n",
    "            if r4.status_code == 200:\n",
    "                schedule = BeautifulSoup(r4.text, \"html.parser\")\n",
    "                films = schedule.findAll('div', class_ = 'shedule_movie')\n",
    "                for film in films:\n",
    "                    money = []\n",
    "                    n = 0\n",
    "                    title = film.findAll('span', class_ = \"movie_card_header title\")\n",
    "                    name = tab_delete_name(title[0].text)\n",
    "                    cinema_id = try_to_get_cinema_id(name, cursor.execute('select * from cinemas').fetchall())\n",
    "                    sessions = film.findAll('span', class_ = \"shedule_session_time\")\n",
    "                    prices = film.findAll('span', class_ = \"shedule_session_price\")\n",
    "                    for price in prices:\n",
    "                        money.append(number(price.text))\n",
    "                    for session in sessions:\n",
    "                        time = tab_delete(session.text)\n",
    "                        try:\n",
    "                            values = [cinema_id, hall_id, name, date, time, money[n]]\n",
    "                        except IndexError:\n",
    "                            values = [cinema_id, hall_id, name, date, time, 0]\n",
    "                        n += 1\n",
    "                        try:\n",
    "                            cursor.execute(\"insert into sessions (cinema_id, hall_id, name, date, time, price) values ({},{},'{}','{}', '{}', {})\".format(*values))\n",
    "                        except sqlite3.OperationalError:\n",
    "                            continue\n",
    "                        conn.commit()\n",
    "            else:\n",
    "                print('I think that page is not found')\n",
    "    else:\n",
    "        print('I think that page is not found')\n",
    "    hall_id += 1 "
   ]
  },
  {
   "cell_type": "code",
   "execution_count": 38,
   "metadata": {},
   "outputs": [],
   "source": [
    "url_almaz1 = \"https://almazcinema.ru/msk/cinema/41/\"\n",
    "url_almaz2 = \"https://almazcinema.ru/msk/cinema/40/\""
   ]
  },
  {
   "cell_type": "code",
   "execution_count": 39,
   "metadata": {},
   "outputs": [],
   "source": [
    "#cursor.execute('drop table sessions')"
   ]
  },
  {
   "cell_type": "code",
   "execution_count": 40,
   "metadata": {},
   "outputs": [],
   "source": [
    "def metro_address(name):\n",
    "    lst = name.split('м. ')\n",
    "    return lst"
   ]
  },
  {
   "cell_type": "code",
   "execution_count": 42,
   "metadata": {},
   "outputs": [],
   "source": [
    "r5 = requests.get(url_almaz1)\n",
    "if r5.status_code == 200:\n",
    "    soup = BeautifulSoup(r5.text, \"html.parser\")\n",
    "    name = soup.findAll('h1', class_ = 'page__title')[0].text\n",
    "    info = tab_delete_name(soup.findAll('div', class_ = 'cinema__address')[0].text)\n",
    "    phone = soup.findAll('div', class_ = 'cinema__phone')[0].text\n",
    "    metro = metro_address(info)[-1]\n",
    "    address = metro_address(info)[0]\n",
    "    values = [3, name, address, metro, phone]\n",
    "    cursor.execute(\"insert into cinema_halls (brand_id, name, address, metro, phone) values ({},'{}','{}','{}','{}')\".format(*values))\n",
    "    conn.commit()\n",
    "else:\n",
    "    print('I think that page is not found')"
   ]
  },
  {
   "cell_type": "code",
   "execution_count": 43,
   "metadata": {},
   "outputs": [],
   "source": [
    "r6 = requests.get(url_almaz2)\n",
    "if r6.status_code == 200:\n",
    "    soup = BeautifulSoup(r6.text, \"html.parser\")\n",
    "    name = soup.findAll('h1', class_ = 'page__title')[0].text\n",
    "    info = tab_delete_name(soup.findAll('div', class_ = 'cinema__address')[0].text)\n",
    "    phone = soup.findAll('div', class_ = 'cinema__phone')[0].text\n",
    "    metro = metro_address(info)[-1]\n",
    "    address = metro_address(info)[0]\n",
    "    values = [3, name, address, metro, phone]\n",
    "    cursor.execute(\"insert into cinema_halls (brand_id, name, address, metro, phone) values ({},'{}','{}','{}','{}')\".format(*values))\n",
    "    conn.commit()\n",
    "else:\n",
    "    print('I think that page is not found')"
   ]
  },
  {
   "cell_type": "code",
   "execution_count": 44,
   "metadata": {},
   "outputs": [],
   "source": []
  },
  {
   "cell_type": "code",
   "execution_count": 45,
   "metadata": {},
   "outputs": [],
   "source": []
  },
  {
   "cell_type": "code",
   "execution_count": 46,
   "metadata": {},
   "outputs": [],
   "source": [
    "url_schedule1 = 'https://almazcinema.ru/msk/cinema/40/schedule/'\n",
    "url_schedule2 = 'https://almazcinema.ru/msk/cinema/41/schedule/'"
   ]
  },
  {
   "cell_type": "code",
   "execution_count": 47,
   "metadata": {},
   "outputs": [],
   "source": [
    "def number(price):\n",
    "    pattern = re.compile(r'[0-9]+[:]?[0-9]+')\n",
    "    res = ' '.join(pattern.findall(price))\n",
    "    return res\n",
    "\n",
    "def tab_delete(name):\n",
    "    pattern = re.compile(r'[А-Яа-яёЁ0-9.,-:II]+')\n",
    "    res = ' '.join(pattern.findall(name))\n",
    "    return res"
   ]
  },
  {
   "cell_type": "code",
   "execution_count": 49,
   "metadata": {},
   "outputs": [],
   "source": [
    "hall_id = 42\n",
    "k = 0\n",
    "r8 = requests.get(url_schedule1)\n",
    "if r8.status_code == 200:\n",
    "    soup = BeautifulSoup(r8.text, \"html.parser\")\n",
    "    dates = soup.findAll('div', class_ = 'item day')\n",
    "    for date in dates:\n",
    "        film_k = 0\n",
    "        day = (datetime.date.today()+ datetime.timedelta(days=k)).strftime('%Y-%m-%d')\n",
    "        names = date.findAll('h3')\n",
    "        for film in names:\n",
    "            name = tab_delete(str(names[film_k]))[2:-4]\n",
    "            cinema_id = try_to_get_cinema_id(name, cursor.execute('select * from cinemas').fetchall())\n",
    "            sessions = date.findAll('a', class_ = 'btn')\n",
    "            for session in sessions:\n",
    "                info = session.findAll('span')\n",
    "                info = number(str(info))\n",
    "                time = info.split()[0]\n",
    "                price = info.split()[-1]\n",
    "                values = [cinema_id, hall_id, name, day, time, price]\n",
    "                try:\n",
    "                    cursor.execute(\"insert into sessions (cinema_id, hall_id, name, date, time, price) values ({},{},'{}','{}', '{}', {})\".format(*values))\n",
    "                except sqlite3.OperationalError:\n",
    "                    continue\n",
    "                conn.commit()\n",
    "            film_k += 1\n",
    "        k += 1"
   ]
  },
  {
   "cell_type": "code",
   "execution_count": 50,
   "metadata": {},
   "outputs": [],
   "source": [
    "hall_id = 43\n",
    "k = 0\n",
    "r9 = requests.get(url_schedule1)\n",
    "if r9.status_code == 200:\n",
    "    soup = BeautifulSoup(r9.text, \"html.parser\")\n",
    "    dates = soup.findAll('div', class_ = 'item day')\n",
    "    for date in dates:\n",
    "        film_k = 0\n",
    "        day = (datetime.date.today()+ datetime.timedelta(days=k)).strftime('%Y-%m-%d')\n",
    "        names = date.findAll('h3')\n",
    "        for film in names:\n",
    "            name = tab_delete(str(names[film_k]))[2:-4]\n",
    "            cinema_id = try_to_get_cinema_id(name, cursor.execute('select * from cinemas').fetchall())\n",
    "            sessions = date.findAll('a', class_ = 'btn')\n",
    "            for session in sessions:\n",
    "                info = session.findAll('span')\n",
    "                info = number(str(info))\n",
    "                time = info.split()[0]\n",
    "                price = info.split()[-1]\n",
    "                values = [cinema_id, hall_id, name, day, time, price]\n",
    "                try:\n",
    "                    cursor.execute(\"insert into sessions (cinema_id, hall_id, name, date, time, price) values ({},{},'{}','{}', '{}', {})\".format(*values))\n",
    "                except sqlite3.OperationalError:\n",
    "                    continue\n",
    "                conn.commit()\n",
    "            film_k += 1\n",
    "        k += 1"
   ]
  },
  {
   "cell_type": "code",
   "execution_count": null,
   "metadata": {},
   "outputs": [],
   "source": []
  }
 ],
 "metadata": {
  "kernelspec": {
   "display_name": "Python 3",
   "language": "python",
   "name": "python3"
  },
  "language_info": {
   "codemirror_mode": {
    "name": "ipython",
    "version": 3
   },
   "file_extension": ".py",
   "mimetype": "text/x-python",
   "name": "python",
   "nbconvert_exporter": "python",
   "pygments_lexer": "ipython3",
   "version": "3.7.4"
  }
 },
 "nbformat": 4,
 "nbformat_minor": 2
}
